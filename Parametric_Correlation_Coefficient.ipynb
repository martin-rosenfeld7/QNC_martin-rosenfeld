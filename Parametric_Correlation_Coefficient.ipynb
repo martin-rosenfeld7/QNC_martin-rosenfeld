{
  "nbformat": 4,
  "nbformat_minor": 0,
  "metadata": {
    "colab": {
      "provenance": [],
      "authorship_tag": "ABX9TyPORjggZU77VmIn3kBs0/ap",
      "include_colab_link": true
    },
    "kernelspec": {
      "name": "python3",
      "display_name": "Python 3"
    },
    "language_info": {
      "name": "python"
    }
  },
  "cells": [
    {
      "cell_type": "markdown",
      "metadata": {
        "id": "view-in-github",
        "colab_type": "text"
      },
      "source": [
        "<a href=\"https://colab.research.google.com/github/martin-rosenfeld7/QNC_martin-rosenfeld/blob/main/Parametric_Correlation_Coefficient.ipynb\" target=\"_parent\"><img src=\"https://colab.research.google.com/assets/colab-badge.svg\" alt=\"Open In Colab\"/></a>"
      ]
    },
    {
      "cell_type": "code",
      "execution_count": 1,
      "metadata": {
        "colab": {
          "base_uri": "https://localhost:8080/",
          "height": 472
        },
        "id": "XA3J1RXKAL0M",
        "outputId": "f2138b01-f4e3-4122-ddb4-512f890ea0b6"
      },
      "outputs": [
        {
          "output_type": "display_data",
          "data": {
            "text/plain": [
              "<Figure size 640x480 with 1 Axes>"
            ],
            "image/png": "[encoded data removed]"
          },
          "metadata": {}
        }
      ],
      "source": [
        "import numpy as np\n",
        "import matplotlib.pyplot as plt\n",
        "from scipy import stats\n",
        "\n",
        "X = np.array([10.4,10.8,11.1,10.2,10.3,10.2,10.7,10.5,10.8,11.2,10.6,11.4])\n",
        "Y = np.array([7.4,7.6,7.9,7.2,7.4,7.1,7.4,7.2,7.8,7.7,7.8,8.3])\n",
        "\n",
        "plt.scatter(X, Y)\n",
        "plt.xlabel('Wing length (cm)')\n",
        "plt.ylabel('Tail length (cm)')\n",
        "plt.title('Wing vs Tail length')\n",
        "plt.show()\n"
      ]
    },
    {
      "cell_type": "code",
      "source": [
        "r_manual = np.corrcoef(X, Y)[0,1]\n",
        "r_scipy, p_value = stats.pearsonr(X, Y)\n",
        "\n",
        "print(f\"Manual r = {r_manual:.3f}\")\n",
        "print(f\"scipy pearsonr r = {r_scipy:.3f}, p = {p_value:.4f}\")\n"
      ],
      "metadata": {
        "colab": {
          "base_uri": "https://localhost:8080/"
        },
        "id": "RkVR9WHwAZtN",
        "outputId": "1bad6537-a600-4117-f726-f328c22e91aa"
      },
      "execution_count": 2,
      "outputs": [
        {
          "output_type": "stream",
          "name": "stdout",
          "text": [
            "Manual r = 0.870\n",
            "scipy pearsonr r = 0.870, p = 0.0002\n"
          ]
        }
      ]
    },
    {
      "cell_type": "code",
      "source": [
        "n = len(X)\n",
        "z = np.arctanh(r_scipy)\n",
        "se = 1 / np.sqrt(n - 3)\n",
        "z_ci = [z - 1.96*se, z + 1.96*se]\n",
        "r_ci = np.tanh(z_ci)\n",
        "print(f\"95% CI for r: [{r_ci[0]:.3f}, {r_ci[1]:.3f}]\")\n"
      ],
      "metadata": {
        "colab": {
          "base_uri": "https://localhost:8080/"
        },
        "id": "n9o9A2ewA67d",
        "outputId": "fa0e1c33-7dcd-467a-9441-7cd3785bdb93"
      },
      "execution_count": 4,
      "outputs": [
        {
          "output_type": "stream",
          "name": "stdout",
          "text": [
            "95% CI for r: [0.592, 0.963]\n"
          ]
        }
      ]
    },
    {
      "cell_type": "code",
      "source": [
        "t = r_scipy * np.sqrt((n-2)/(1 - r_scipy**2))\n",
        "p = 2 * (1 - stats.t.cdf(abs(t), df=n-2))\n",
        "print(f\"t = {t:.3f}, p = {p:.4f}\")\n"
      ],
      "metadata": {
        "colab": {
          "base_uri": "https://localhost:8080/"
        },
        "id": "5_NeY9oJBD1q",
        "outputId": "7dbd6008-b806-4271-b8a7-0107a4321494"
      },
      "execution_count": 5,
      "outputs": [
        {
          "output_type": "stream",
          "name": "stdout",
          "text": [
            "t = 5.589, p = 0.0002\n"
          ]
        }
      ]
    },
    {
      "cell_type": "code",
      "source": [
        "r_yale = 0.75\n",
        "z1 = np.arctanh(r_scipy)\n",
        "z2 = np.arctanh(r_yale)\n",
        "z_diff = (z1 - z2) / np.sqrt(1/(n-3))\n",
        "p_diff = 2 * (1 - stats.norm.cdf(abs(z_diff)))\n",
        "print(f\"z_diff = {z_diff:.3f}, p = {p_diff:.4f}\")\n"
      ],
      "metadata": {
        "colab": {
          "base_uri": "https://localhost:8080/"
        },
        "id": "b3FpbOeuBLGl",
        "outputId": "4ba8243e-79c2-4901-8016-51a164615703"
      },
      "execution_count": 6,
      "outputs": [
        {
          "output_type": "stream",
          "name": "stdout",
          "text": [
            "z_diff = 1.085, p = 0.2780\n"
          ]
        }
      ]
    },
    {
      "cell_type": "code",
      "source": [
        "from statsmodels.stats.power import NormalIndPower\n",
        "from statsmodels.stats.power import tt_ind_solve_power\n",
        "\n",
        "# Power for current n=12, r=0.5, alpha=0.05\n",
        "from statsmodels.stats.power import TTestPower\n",
        "analysis = TTestPower()\n",
        "effect_size = np.arctanh(0.5)\n",
        "power = analysis.power(effect_size=0.5, nobs=n, alpha=0.05)\n",
        "print(f\"Power for n=12, r=0.5: {power:.3f}\")\n"
      ],
      "metadata": {
        "colab": {
          "base_uri": "https://localhost:8080/"
        },
        "id": "3ajLiqp2BSCr",
        "outputId": "aa03bc1a-7dba-498b-e358-ef19df3d0e7b"
      },
      "execution_count": 7,
      "outputs": [
        {
          "output_type": "stream",
          "name": "stdout",
          "text": [
            "Power for n=12, r=0.5: 0.353\n"
          ]
        }
      ]
    },
    {
      "cell_type": "code",
      "source": [
        "n_required = analysis.solve_power(effect_size=0.5, alpha=0.05, power=0.8)\n",
        "print(f\"Required sample size for 80% power (r=0.5): {n_required:.1f}\")\n"
      ],
      "metadata": {
        "colab": {
          "base_uri": "https://localhost:8080/"
        },
        "id": "tbDFzPKuBZK3",
        "outputId": "49097fb8-ceee-4a0f-adad-17483b702b54"
      },
      "execution_count": 8,
      "outputs": [
        {
          "output_type": "stream",
          "name": "stdout",
          "text": [
            "Required sample size for 80% power (r=0.5): 33.4\n"
          ]
        }
      ]
    }
  ]
}