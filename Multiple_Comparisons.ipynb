{
  "nbformat": 4,
  "nbformat_minor": 0,
  "metadata": {
    "colab": {
      "provenance": [],
      "authorship_tag": "ABX9TyNHge+su/XxyCv8iMRLz1Ot",
      "include_colab_link": true
    },
    "kernelspec": {
      "name": "python3",
      "display_name": "Python 3"
    },
    "language_info": {
      "name": "python"
    }
  },
  "cells": [
    {
      "cell_type": "markdown",
      "metadata": {
        "id": "view-in-github",
        "colab_type": "text"
      },
      "source": [
        "<a href=\"https://colab.research.google.com/github/martin-rosenfeld7/QNC_martin-rosenfeld/blob/main/Multiple_Comparisons.ipynb\" target=\"_parent\"><img src=\"https://colab.research.google.com/assets/colab-badge.svg\" alt=\"Open In Colab\"/></a>"
      ]
    },
    {
      "cell_type": "code",
      "execution_count": 1,
      "metadata": {
        "colab": {
          "base_uri": "https://localhost:8080/"
        },
        "id": "oBNxZYg6-qje",
        "outputId": "12703d18-3a60-4f92-ae72-34a4329115e8"
      },
      "outputs": [
        {
          "output_type": "stream",
          "name": "stdout",
          "text": [
            "Uncorrected significant results (p<0.05): 41 / 1000\n",
            "Bonferroni significant results: 0 / 1000\n",
            "Benjamini–Hochberg significant results: 0 / 1000\n",
            "\n",
            "With true mean difference:\n",
            "Uncorrected significant results (p<0.05): 964 / 1000\n",
            "Bonferroni significant results: 344 / 1000\n",
            "Benjamini–Hochberg significant results: 964 / 1000\n"
          ]
        }
      ],
      "source": [
        "import numpy as np\n",
        "from scipy.stats import ttest_ind\n",
        "from statsmodels.stats.multitest import multipletests\n",
        "\n",
        "# --- Step 1: simulate p-values under the null hypothesis ---\n",
        "np.random.seed(42)  # for reproducibility\n",
        "n_tests = 1000\n",
        "sample_size = 30\n",
        "\n",
        "# Two groups with equal means and SDs\n",
        "p_values = []\n",
        "for _ in range(n_tests):\n",
        "    group1 = np.random.normal(0, 1, sample_size)\n",
        "    group2 = np.random.normal(0, 1, sample_size)\n",
        "    _, p = ttest_ind(group1, group2)\n",
        "    p_values.append(p)\n",
        "p_values = np.array(p_values)\n",
        "\n",
        "print(f\"Uncorrected significant results (p<0.05): {(p_values < 0.05).sum()} / {n_tests}\")\n",
        "\n",
        "# --- Step 2: Apply corrections ---\n",
        "bonf_corrected = multipletests(p_values, alpha=0.05, method='bonferroni')\n",
        "fdr_corrected = multipletests(p_values, alpha=0.05, method='fdr_bh')\n",
        "\n",
        "print(f\"Bonferroni significant results: {bonf_corrected[0].sum()} / {n_tests}\")\n",
        "print(f\"Benjamini–Hochberg significant results: {fdr_corrected[0].sum()} / {n_tests}\")\n",
        "\n",
        "# --- Step 3: Repeat with true mean differences ---\n",
        "mean_diff = 1.0  # try 1, 2, or larger\n",
        "p_values_diff = []\n",
        "for _ in range(n_tests):\n",
        "    group1 = np.random.normal(0, 1, sample_size)\n",
        "    group2 = np.random.normal(mean_diff, 1, sample_size)\n",
        "    _, p = ttest_ind(group1, group2)\n",
        "    p_values_diff.append(p)\n",
        "p_values_diff = np.array(p_values_diff)\n",
        "\n",
        "bonf_corrected_diff = multipletests(p_values_diff, alpha=0.05, method='bonferroni')\n",
        "fdr_corrected_diff = multipletests(p_values_diff, alpha=0.05, method='fdr_bh')\n",
        "\n",
        "print(\"\\nWith true mean difference:\")\n",
        "print(f\"Uncorrected significant results (p<0.05): {(p_values_diff < 0.05).sum()} / {n_tests}\")\n",
        "print(f\"Bonferroni significant results: {bonf_corrected_diff[0].sum()} / {n_tests}\")\n",
        "print(f\"Benjamini–Hochberg significant results: {fdr_corrected_diff[0].sum()} / {n_tests}\")\n"
      ]
    }
  ]
}